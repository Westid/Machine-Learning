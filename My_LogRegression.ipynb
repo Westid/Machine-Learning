{
 "cells": [
  {
   "cell_type": "code",
   "execution_count": 1,
   "id": "pregnant-tribute",
   "metadata": {},
   "outputs": [],
   "source": [
    "import numpy as np\n",
    "import pandas as pd"
   ]
  },
  {
   "cell_type": "code",
   "execution_count": null,
   "id": "heard-stomach",
   "metadata": {},
   "outputs": [],
   "source": []
  },
  {
   "cell_type": "code",
   "execution_count": null,
   "id": "foster-testimony",
   "metadata": {},
   "outputs": [],
   "source": []
  },
  {
   "cell_type": "code",
   "execution_count": 139,
   "id": "multiple-weight",
   "metadata": {},
   "outputs": [],
   "source": [
    "class MyLogisticRegression:\n",
    "    def __init__(self, penalty = \"l2\", max_iter = 1000, l1_ratio = None, random_state = None, \\\n",
    "                 tol = 0.0001, C = 1.0, learning_rate = 0.05, fit_intercept = True):\n",
    "        self.penalty = \"l2\"\n",
    "        self.max_iter = 100\n",
    "        \n",
    "        if l1_ratio == None:\n",
    "            self.l1_ratio = 0\n",
    "        else:\n",
    "            self.l1_ratio = l1_ratio\n",
    "        self.random_state = random_state\n",
    "        self.tol = tol\n",
    "        self.C = C\n",
    "        self.w = None\n",
    "        self.get_data = None\n",
    "        self.uniq_val = None\n",
    "        self.learning_rate = learning_rate\n",
    "        self.fit_intercept = fit_intercept\n",
    "        \n",
    "    def stochastic_gradient_step(self, X, y, w):\n",
    "        size, dim = np.shape(X)\n",
    "        L_func = lambda X, w : 1 / (1 + np.exp(-X.dot(w)))\n",
    "        grad = X.T.dot(L_func(X, w) - y)\n",
    "        return grad\n",
    "    \n",
    "    \n",
    "    def solver(self, X, y):\n",
    "        rand_gen = np.random.RandomState(self.random_state)\n",
    "        size, dim = np.shape(X)\n",
    "        \n",
    "        # случайная начальная инициализация\n",
    "        w = rand_gen.rand(dim)\n",
    "        weights_history = w\n",
    "        \n",
    "\n",
    "        for i in range(self.max_iter):\n",
    "            rand_indices = rand_gen.choice(size, int(size * 0.5))\n",
    "            grad = self.stochastic_gradient_step(X[rand_indices], y[rand_indices], w)\n",
    "\n",
    "            assert type(grad) == np.ndarray, 'неверный тип'\n",
    "            assert len(grad.shape) == 1, 'Необходимо вернуть одномерный вектор'\n",
    "            assert grad.shape[0] == len(w), 'длина вектора должна быть равной количеству весов'\n",
    "            \n",
    "            \n",
    "            w -= self.learning_rate * grad / (i + 1)\n",
    "\n",
    "            weights_history = np.vstack((weights_history, w))\n",
    "        return w\n",
    "    \n",
    "    \n",
    "    def fit(self, X, y):\n",
    "        if self.fit_intercept:\n",
    "            X = np.hstack((X, np.ones((X.shape[0], 1))))\n",
    "        self.w = self.solver(X, y)\n",
    "        \n",
    "        \n",
    "    def computation(self, X, get_data = \"prediction\"):\n",
    "        if self.fit_intercept:\n",
    "            X = np.hstack((X, np.ones((X.shape[0], 1))))\n",
    "        p1 = 1 / (1 + np.exp(-X.dot(self.w)))\n",
    "        p0 = 1 - p1\n",
    "        p_class = np.hstack((p1, p0))\n",
    "        \n",
    "        if get_data == \"predict_proba\":\n",
    "            return  p_class\n",
    "        \n",
    "        if get_data == \"predict\":\n",
    "            target_val = (p1 > 0.5).astype(np.int8)\n",
    "            return  target_val\n",
    "                    \n",
    "        if get_data == \"decision_function\":\n",
    "            return np.array(koef_expo)\n",
    "                      \n",
    "\n",
    "            \n",
    "    def predict(self, X):\n",
    "        predict_target_val = self.computation(X, \"predict\")\n",
    "        return predict_target_val\n",
    "    \n",
    "    def predict_proba(self, X):\n",
    "        pred_proba = self.computation(X, \"predict_proba\")\n",
    "        return pred_proba\n",
    "    \n",
    "    def decision_function(self, X):\n",
    "        decision_func = self.computation(X, \"decision_function\")\n",
    "        return decision_func"
   ]
  },
  {
   "cell_type": "code",
   "execution_count": 140,
   "id": "constant-interview",
   "metadata": {},
   "outputs": [],
   "source": [
    "from sklearn.datasets import make_moons\n",
    "\n",
    "X, y = make_moons(n_samples=600, noise=0.3)\n",
    "\n",
    "from sklearn.model_selection import train_test_split\n",
    "\n",
    "X_train, X_test, y_train, y_test = train_test_split(X, y, random_state=42, test_size=0.2)"
   ]
  },
  {
   "cell_type": "code",
   "execution_count": 141,
   "id": "endangered-tonight",
   "metadata": {},
   "outputs": [
    {
     "data": {
      "text/plain": [
       "array([1, 0, 0, 0, 1, 1, 0, 1, 1, 1, 0, 1, 1, 0, 0, 0, 0, 1, 1, 1, 1, 1,\n",
       "       1, 0, 0, 1, 0, 0, 1, 1, 0, 0, 0, 0, 0, 0, 0, 0, 0, 1, 1, 1, 1, 1,\n",
       "       1, 0, 0, 1, 1, 1, 0, 0, 0, 1, 1, 1, 1, 0, 0, 0, 0, 0, 1, 0, 1, 0,\n",
       "       1, 0, 0, 1, 1, 1, 1, 0, 0, 1, 1, 0, 1, 0, 0, 1, 1, 1, 1, 1, 0, 0,\n",
       "       1, 0, 0, 0, 0, 0, 1, 1, 0, 1, 0, 0, 1, 1, 0, 0, 1, 1, 1, 1, 0, 1,\n",
       "       1, 0, 1, 1, 1, 1, 0, 1, 1, 0], dtype=int8)"
      ]
     },
     "execution_count": 141,
     "metadata": {},
     "output_type": "execute_result"
    }
   ],
   "source": [
    "my_logreg = MyLogisticRegression()\n",
    "my_logreg.fit(X_train, y_train)\n",
    "my_logreg.predict(X_test)"
   ]
  },
  {
   "cell_type": "code",
   "execution_count": 149,
   "id": "liberal-transsexual",
   "metadata": {},
   "outputs": [
    {
     "name": "stdout",
     "output_type": "stream",
     "text": [
      "0.8062937062937062\n"
     ]
    }
   ],
   "source": [
    "from sklearn.metrics import accuracy_score\n",
    "from sklearn.metrics import roc_auc_score\n",
    "\n",
    "accuracy_score(y_test, my_logreg.predict(X_test))\n",
    "print(roc_auc_score(y_test, my_logreg.predict(X_test)))"
   ]
  },
  {
   "cell_type": "code",
   "execution_count": null,
   "id": "acceptable-major",
   "metadata": {},
   "outputs": [],
   "source": []
  }
 ],
 "metadata": {
  "kernelspec": {
   "display_name": "Python 3",
   "language": "python",
   "name": "python3"
  },
  "language_info": {
   "codemirror_mode": {
    "name": "ipython",
    "version": 3
   },
   "file_extension": ".py",
   "mimetype": "text/x-python",
   "name": "python",
   "nbconvert_exporter": "python",
   "pygments_lexer": "ipython3",
   "version": "3.8.10"
  }
 },
 "nbformat": 4,
 "nbformat_minor": 5
}
