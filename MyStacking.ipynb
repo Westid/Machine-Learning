{
  "nbformat": 4,
  "nbformat_minor": 0,
  "metadata": {
    "colab": {
      "name": "MyStacking.ipynb",
      "provenance": [],
      "collapsed_sections": []
    },
    "kernelspec": {
      "name": "python3",
      "display_name": "Python 3"
    },
    "language_info": {
      "name": "python"
    }
  },
  "cells": [
    {
      "cell_type": "code",
      "metadata": {
        "id": "02VmMA-xh-oH"
      },
      "source": [
        "import numpy as np\n",
        "import pandas as pd\n",
        "import matplotlib.pyplot as plt"
      ],
      "execution_count": null,
      "outputs": []
    },
    {
      "cell_type": "code",
      "metadata": {
        "id": "TYYuXJqfiG9Z"
      },
      "source": [
        "from sklearn.ensemble import RandomForestRegressor\n",
        "\n",
        " \n",
        "class MyStacking:\n",
        "    def __init__(self, n_folds = 3, estimators = None, random_state = None, teacher_algorithm = RandomForestRegressor(n_jobs=-1, )):\n",
        "        self.folds = n_folds\n",
        "        self.estimators = estimators\n",
        "        self.random_state = random_state\n",
        "        self.alg_weight = None\n",
        "        self.teacher_algorithm = teacher_algorithm\n",
        "        self.fit_algorithm = []\n",
        "    \n",
        "    def fit(self, X, y):\n",
        "        np.random.seed(self.random_state)\n",
        "\n",
        "      # Создаем словарь, который будет хранить предсказанные данные\n",
        "        meta_features = np.array([])\n",
        "\n",
        "      # Обучаем наши алгоритмы для получения метапризнаков чтобы впоследствии обучить teacher_algorithm\n",
        "        for name_alg, algorithm in self.estimators:\n",
        "          # Создаю болванку для записи  предсказанных данных - pred_elem\n",
        "          # group_elem - разбиение индексов на фолды - необходимо для кросс-предсказания\n",
        "            pred_val = np.zeros((y.shape[0]))\n",
        "            shuffle_ind = np.random.permutation(y.shape[0]) \n",
        "            group_elem = np.array_split(shuffle_ind, self.folds)\n",
        "\n",
        "            for i, indicies in enumerate(group_elem):\n",
        "                if i == 0 or i == (self.folds - 1):\n",
        "                    train_indicies = np.hstack((group_elem[i+1:])) if i== 0 else np.hstack((group_elem[: i]))\n",
        "                else:\n",
        "                    train_indicies = np.hstack((np.hstack((group_elem[i+1:])), np.hstack((group_elem[:i]))))\n",
        "                \n",
        "                algorithm.fit(X[train_indicies, :], y[train_indicies])\n",
        "                pred_val[indicies] = algorithm.predict(X[indicies, :])\n",
        "            \n",
        "\n",
        "            if meta_features.shape[0] == 0:\n",
        "                meta_features = pred_val\n",
        "            else:\n",
        "                meta_features = np.vstack((meta_features, pred_val))\n",
        "\n",
        "        meta_features = meta_features.T  \n",
        "        self.teacher_algorithm.fit(meta_features, y)\n",
        "\n",
        "        self.alg_weight =  self.teacher_algorithm.feature_importances_\n",
        "\n",
        "        for name_alg, algorithm in self.estimators:\n",
        "            self.fit_algorithm.append((name_alg, algorithm.fit(X, y)))\n",
        "        \n",
        "\n",
        "    def predict(self, X):\n",
        "        meta_features = np.array([])\n",
        "        for name_alg, algorithm in self.fit_algorithm:\n",
        "            pred_val = algorithm.predict(X) \n",
        "            if meta_features.shape[0] == 0:\n",
        "                meta_features = pred_val\n",
        "            else:\n",
        "                meta_features = np.vstack((meta_features, pred_val))\n",
        "        \n",
        "        print(meta_features)\n",
        "        result = meta_features.T.dot(self.alg_weight)\n",
        "\n",
        "        return result   \n"
      ],
      "execution_count": null,
      "outputs": []
    },
    {
      "cell_type": "code",
      "metadata": {
        "id": "qhteIB9hof09"
      },
      "source": [
        ""
      ],
      "execution_count": null,
      "outputs": []
    },
    {
      "cell_type": "code",
      "metadata": {
        "id": "L4I6zf4UnuCm"
      },
      "source": [
        ""
      ],
      "execution_count": null,
      "outputs": []
    },
    {
      "cell_type": "code",
      "metadata": {
        "id": "4SEPpY6-mSK-"
      },
      "source": [
        "hard_student = MyStacking(n_folds=3, estimators=[(\"sgd_reg\", SGDRegressor()), (\"svm_reg\", SVR()), (\"RF_reg\", RandomForestRegressor())])\n",
        "hard_student.fit(X_norm, y)"
      ],
      "execution_count": null,
      "outputs": []
    },
    {
      "cell_type": "code",
      "metadata": {
        "id": "FeSIvxF5iHXZ"
      },
      "source": [
        "from sklearn.datasets import load_boston\n",
        "\n",
        "X, y = load_boston(return_X_y=True)\n",
        "\n",
        "from sklearn.preprocessing import StandardScaler\n",
        "from sklearn.decomposition import PCA\n",
        "from sklearn.pipeline import Pipeline\n",
        "\n",
        "pipe = Pipeline([\n",
        "          (\"std\", StandardScaler()),\n",
        "          (\"PCA\", PCA())\n",
        "])\n",
        "\n",
        "X_norm = pipe.fit_transform(X)"
      ],
      "execution_count": null,
      "outputs": []
    },
    {
      "cell_type": "code",
      "metadata": {
        "colab": {
          "base_uri": "https://localhost:8080/"
        },
        "id": "GmCdUTOamXwq",
        "outputId": "cccab0cc-8057-4be5-eede-4c9179859144"
      },
      "source": [
        "X_norm.shape"
      ],
      "execution_count": null,
      "outputs": [
        {
          "output_type": "execute_result",
          "data": {
            "text/plain": [
              "(506, 13)"
            ]
          },
          "metadata": {
            "tags": []
          },
          "execution_count": 87
        }
      ]
    },
    {
      "cell_type": "code",
      "metadata": {
        "id": "EN-tP2xzjAi_"
      },
      "source": [
        "from sklearn.linear_model import SGDRegressor\n",
        "from sklearn.ensemble import RandomForestRegressor\n",
        "from sklearn.svm import SVR\n",
        "\n",
        "hard_student = MyStacking(n_folds=3, estimators=[(\"sgd_reg\", SGDRegressor()), (\"svm_reg\", SVR()), (\"RF_reg\", RandomForestRegressor())])\n",
        "hard_student.fit(X_norm, y)"
      ],
      "execution_count": null,
      "outputs": []
    },
    {
      "cell_type": "code",
      "metadata": {
        "colab": {
          "base_uri": "https://localhost:8080/"
        },
        "id": "KBawVedm28BS",
        "outputId": "998f14fa-ca10-47ff-93fd-508d396351ca"
      },
      "source": [
        "from sklearn.metrics import mean_absolute_error\n",
        "y_pred = hard_student.predict(X_norm)\n",
        "\n",
        "mean_absolute_error(y_pred, y)"
      ],
      "execution_count": null,
      "outputs": [
        {
          "output_type": "stream",
          "text": [
            "[[30.32910225 24.95418751 30.55574912 ... 27.68048068 26.17903084\n",
            "  22.36525113]\n",
            " [29.32824737 23.06856722 31.22595594 ... 24.5041957  23.46038865\n",
            "  20.14376826]\n",
            " [23.754      22.125      32.688      ... 24.021      22.598\n",
            "  16.746     ]]\n"
          ],
          "name": "stdout"
        },
        {
          "output_type": "execute_result",
          "data": {
            "text/plain": [
              "2.1353614947578534"
            ]
          },
          "metadata": {
            "tags": []
          },
          "execution_count": 89
        }
      ]
    },
    {
      "cell_type": "code",
      "metadata": {
        "id": "HymLinXRiwxf"
      },
      "source": [
        "\n"
      ],
      "execution_count": null,
      "outputs": []
    }
  ]
}